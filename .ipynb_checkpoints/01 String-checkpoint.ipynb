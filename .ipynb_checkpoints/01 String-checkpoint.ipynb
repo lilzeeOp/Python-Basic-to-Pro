{
 "cells": [
  {
   "cell_type": "code",
   "execution_count": null,
   "id": "6822d4a1",
   "metadata": {},
   "outputs": [],
   "source": [
    "#  - Screw Things Up\n",
    "# Solutions to review exercies\n",
    "\n",
    "# following won't run\n",
    "\n",
    "print(\"hi)\n",
    "      \n",
    "    "
   ]
  },
  {
   "cell_type": "code",
   "execution_count": 1,
   "id": "195c73da",
   "metadata": {},
   "outputs": [
    {
     "name": "stdout",
     "output_type": "stream",
     "text": [
      "hi\n"
     ]
    }
   ],
   "source": [
    "# solution\n",
    "\n",
    "print(\"hi\")"
   ]
  },
  {
   "cell_type": "code",
   "execution_count": 2,
   "id": "25491a2f",
   "metadata": {},
   "outputs": [
    {
     "ename": "NameError",
     "evalue": "name 'hello' is not defined",
     "output_type": "error",
     "traceback": [
      "\u001b[1;31m---------------------------------------------------------------------------\u001b[0m",
      "\u001b[1;31mNameError\u001b[0m                                 Traceback (most recent call last)",
      "\u001b[1;32m<ipython-input-2-f6351ba0cbbf>\u001b[0m in \u001b[0;36m<module>\u001b[1;34m\u001b[0m\n\u001b[0;32m      3\u001b[0m     \u001b[0meven\u001b[0m \u001b[1;32mif\u001b[0m \u001b[0mthe\u001b[0m \u001b[0msyntax\u001b[0m \u001b[0merror\u001b[0m \u001b[1;32min\u001b[0m \u001b[0mthe\u001b[0m \u001b[0mline\u001b[0m \u001b[0mabove\u001b[0m \u001b[1;32mis\u001b[0m \u001b[0mcorrected\u001b[0m\u001b[1;33m,\u001b[0m\u001b[1;33m\u001b[0m\u001b[1;33m\u001b[0m\u001b[0m\n\u001b[0;32m      4\u001b[0m     because of a run-time error '''\n\u001b[1;32m----> 5\u001b[1;33m \u001b[0mprint\u001b[0m\u001b[1;33m(\u001b[0m\u001b[0mhello\u001b[0m\u001b[1;33m)\u001b[0m\u001b[1;33m\u001b[0m\u001b[1;33m\u001b[0m\u001b[0m\n\u001b[0m",
      "\u001b[1;31mNameError\u001b[0m: name 'hello' is not defined"
     ]
    }
   ],
   "source": [
    "# Exercise 2\n",
    "''' The following lines won't run properly,\n",
    "    even if the syntax error in the line above is corrected,\n",
    "    because of a run-time error '''\n",
    "print(hello)"
   ]
  },
  {
   "cell_type": "code",
   "execution_count": 4,
   "id": "7030afb5",
   "metadata": {},
   "outputs": [
    {
     "name": "stdout",
     "output_type": "stream",
     "text": [
      "name hello is not defined\n",
      "name 'hello' is not defined\n",
      "name 'hello' is not defined\n"
     ]
    }
   ],
   "source": [
    "# what is string\n",
    "\n",
    "print('name hello is not defined')\n",
    "print(\"name 'hello' is not defined\")\n",
    "print(\"\"\"name 'hello' is not defined\"\"\")"
   ]
  },
  {
   "cell_type": "code",
   "execution_count": 9,
   "id": "1f642439",
   "metadata": {},
   "outputs": [
    {
     "name": "stdout",
     "output_type": "stream",
     "text": [
      "name 'hello' is not \n",
      "defined\n"
     ]
    }
   ],
   "source": [
    "print(\"\"\"name 'hello' is not \\ndefined\"\"\")  # for next line"
   ]
  },
  {
   "cell_type": "code",
   "execution_count": 11,
   "id": "7f8ec556",
   "metadata": {},
   "outputs": [
    {
     "name": "stdout",
     "output_type": "stream",
     "text": [
      "25\n",
      "sujitwaghmare\n"
     ]
    },
    {
     "data": {
      "text/plain": [
       "'sujit waghmare'"
      ]
     },
     "execution_count": 11,
     "metadata": {},
     "output_type": "execute_result"
    }
   ],
   "source": [
    "# 4.2 - Concatenation, Indexing, and Slicing\n",
    "# Solutions to review exercies\n",
    "\n",
    "#print length of string\n",
    "\n",
    "print(len('name hello is not defined'))\n",
    "\n",
    "# concatenation\n",
    "\n",
    "left = \"sujit\"\n",
    "right = \"waghmare\"\n",
    "name = left+right\n",
    "print(name)\n",
    "\n",
    "\n",
    "full_name = left + \" \" + right\n",
    "full_name\n"
   ]
  },
  {
   "cell_type": "code",
   "execution_count": 14,
   "id": "2899200f",
   "metadata": {},
   "outputs": [
    {
     "name": "stdout",
     "output_type": "stream",
     "text": [
      "zing\n",
      "sujit\n"
     ]
    }
   ],
   "source": [
    "# Use subscripting to display part of a string\n",
    "print(\"bazinga\"[2:6])\n",
    "print(name[:5])"
   ]
  },
  {
   "cell_type": "code",
   "execution_count": 15,
   "id": "6e62f8ab",
   "metadata": {},
   "outputs": [
    {
     "name": "stdout",
     "output_type": "stream",
     "text": [
      "animals\n",
      "badger\n",
      "HONEY BEE\n",
      "HONEYBADGER\n"
     ]
    }
   ],
   "source": [
    "# 4.3 - Use String Methods\n",
    "# Solutions to review exercies\n",
    "\n",
    "# Exercise 1\n",
    "string1 = \"Animals\"\n",
    "string2 = \"Badger\"\n",
    "string3 = \"Honey Bee\"\n",
    "string4 = \"Honeybadger\"\n",
    "\n",
    "\n",
    "print(string1.lower())\n",
    "print(string2.lower())\n",
    "print(string3.upper())\n",
    "print(string4.upper())"
   ]
  },
  {
   "cell_type": "code",
   "execution_count": 17,
   "id": "8987e1fe",
   "metadata": {},
   "outputs": [
    {
     "name": "stdout",
     "output_type": "stream",
     "text": [
      "Filet Mignon\n",
      "Brisket\n",
      "Cheeseburger\n"
     ]
    }
   ],
   "source": [
    "# Exercise 3 use strip\n",
    "string1 = \"    Filet Mignon\"\n",
    "string2 = \"Brisket    \"\n",
    "string3 = \"  Cheeseburger   \"\n",
    "\n",
    "print(string1.lstrip())\n",
    "print(string2.rstrip())\n",
    "print(string3.strip())"
   ]
  },
  {
   "cell_type": "code",
   "execution_count": 18,
   "id": "b1b298a2",
   "metadata": {},
   "outputs": [
    {
     "name": "stdout",
     "output_type": "stream",
     "text": [
      "This is ur string: Sujit\n",
      "Sujit\n",
      "5\n",
      "sujit\n"
     ]
    }
   ],
   "source": [
    "# 4.4 - Interact With User Input\n",
    "# Solutions to review exercies\n",
    "\n",
    "\n",
    "# Exercise 1\n",
    "# Take input from the user and display that input back\n",
    "my_input = input(\"This is ur string: \")\n",
    "print(my_input)\n",
    "\n",
    "print(len(my_input))\n",
    "\n",
    "# use lower method\n",
    "\n",
    "print(my_input.lower())"
   ]
  },
  {
   "cell_type": "code",
   "execution_count": 22,
   "id": "fbf144ed",
   "metadata": {},
   "outputs": [
    {
     "name": "stdout",
     "output_type": "stream",
     "text": [
      "Your input is: flower\n",
      "The first letter you entered was: F\n"
     ]
    }
   ],
   "source": [
    "# 4.5 - Challenge: Pick Apart Your User's Input\n",
    "# Solution to code challenge\n",
    "\n",
    "\n",
    "# Return the upper-case first letter entered by the user\n",
    "\n",
    "\n",
    "user = input(\"Your input is: \")\n",
    "first_letter = user[0]\n",
    "print(\"The first letter you entered was: \" + first_letter.upper())\n"
   ]
  },
  {
   "cell_type": "code",
   "execution_count": 30,
   "id": "be2b757b",
   "metadata": {},
   "outputs": [
    {
     "name": "stdout",
     "output_type": "stream",
     "text": [
      "6\n",
      "42\n",
      "6.01\n",
      "42.07\n",
      "mp3\n",
      "first number is : 45\n",
      "second number is : 35\n",
      "1575\n"
     ]
    }
   ],
   "source": [
    "# 4.6 - Working with Strings and Numbers\n",
    "# Solutions to review exercies\n",
    "\n",
    "\n",
    "# Exercise 1\n",
    "# Store an integer as a string\n",
    "my_integer_string = \"6\"\n",
    "print(my_integer_string)\n",
    "\n",
    "# Convert the 'integer' string into an int object using int()\n",
    "# Multiply the integer by 7 and display the result\n",
    "\n",
    "print(int(my_integer_string)* 7)\n",
    "\n",
    "# Exercise 2\n",
    "# Store a floating-point number as a string\n",
    "my_float_string = \"6.01\"\n",
    "print(my_float_string)\n",
    "\n",
    "# Convert the 'float' string into a number using float()\n",
    "# Multiply the number by 7 and display the result\n",
    "\n",
    "print(float(my_float_string)*7)\n",
    "\n",
    "\n",
    "# Exercise 3\n",
    "# Create a string and an int object, then display them together\n",
    "\n",
    "my_string = \"mp\"\n",
    "my_int = 3\n",
    "\n",
    "print(my_string + str(my_int))\n",
    "\n",
    "\n",
    "# Exercise 4\n",
    "# Get two numbers from the user, multiply them,\n",
    "# and display the result\n",
    "\n",
    "\n",
    "a = input(\"first number is : \")\n",
    "b = input(\"second number is : \")\n",
    "product = int(a) * int(b)\n",
    "print(product)"
   ]
  },
  {
   "cell_type": "code",
   "execution_count": 35,
   "id": "85ad2570",
   "metadata": {},
   "outputs": [
    {
     "name": "stdout",
     "output_type": "stream",
     "text": [
      "0.2 kg is the weight of the newt.\n",
      "0.2 kg is the weight of the newt.\n",
      "0.2 kg is the weight of the newt.\n"
     ]
    }
   ],
   "source": [
    "# 4.7 - Streamline Your Print Statements\n",
    "# Solutions to review exercies\n",
    "\n",
    "\n",
    "# Exercise 1\n",
    "weight = 0.2\n",
    "animal = \"newt\"\n",
    "\n",
    "# Concatenate a number and a string in one print statement\n",
    "print(str(weight) + \" kg is the weight of the \" + animal + \".\")\n",
    "\n",
    "\n",
    "# Exercise 2\n",
    "# Use format() to print a number and a string inside of another string\n",
    "print(\"{} kg is the weight of the {}.\".format(weight,animal))\n",
    "\n",
    "\n",
    "\n",
    "# Exercise 3\n",
    "# Use formatted string literal (f-string) to reference objects inside a string\n",
    "print(f\"{weight} kg is the weight of the {animal}.\")"
   ]
  },
  {
   "cell_type": "code",
   "execution_count": 41,
   "id": "2508f9d9",
   "metadata": {},
   "outputs": [
    {
     "name": "stdout",
     "output_type": "stream",
     "text": [
      "-1\n",
      "Somebody xaid xomething to Sam.\n",
      "Type something: Sujit was here on Xmas\n",
      "18\n"
     ]
    }
   ],
   "source": [
    "# 4.8 - Find a String in a String\n",
    "# Solutions to review exercies\n",
    "\n",
    "\n",
    "# Exercise 1\n",
    "# Cannot find the string \"a\" in the string \"AAA\":\n",
    "\n",
    "string = \"AAA\"\n",
    "print(string.find(a))\n",
    "\n",
    "# Exercise 2\n",
    "# Replace every occurrence of the character `\"s\"`\n",
    "# with the character `\"x\"`\n",
    "\n",
    "phrase = \"Somebody said something to Sam.\"\n",
    "print(phrase.replace(\"s\",\"x\"))\n",
    "# NOTE: This leaves the capital \"S\" unchanged, so the\n",
    "# output will be \"Somebody xaid xomething to Sam.\"\n",
    "\n",
    "\n",
    "# Exercise 3\n",
    "# Try to find an upper-case \"X\" in user input:\n",
    "\n",
    "my_input = input(\"Type something: \")\n",
    "print(my_input.find(\"X\"))"
   ]
  },
  {
   "cell_type": "code",
   "execution_count": null,
   "id": "fa3128b0",
   "metadata": {},
   "outputs": [],
   "source": [
    "# 4.9 - Challenge: Turn Your User Into a L33t H4x0r\n",
    "# Solution to challenge\n",
    "\n",
    "\n",
    "# Turn a user's input into leetspeak\n",
    "\n",
    "my_text = input(\"Enter some text: \")\n",
    "\n",
    "my_text = my_text.replace(\"a\", \"4\")\n",
    "my_text = my_text.replace(\"b\", \"8\")\n",
    "my_text = my_text.replace(\"e\", \"3\")\n",
    "my_text = my_text.replace(\"l\", \"1\")\n",
    "my_text = my_text.replace(\"o\", \"0\")\n",
    "my_text = my_text.replace(\"s\", \"5\")\n",
    "my_text = my_text.replace(\"t\", \"7\")\n",
    "\n",
    "print(my_text)\n"
   ]
  },
  {
   "cell_type": "markdown",
   "id": "d3c97398",
   "metadata": {},
   "source": [
    "# Exercises with Solutions"
   ]
  },
  {
   "cell_type": "code",
   "execution_count": 43,
   "id": "60744846",
   "metadata": {},
   "outputs": [
    {
     "name": "stdout",
     "output_type": "stream",
     "text": [
      "S\n",
      "u\n",
      "j\n",
      "i\n",
      "t\n"
     ]
    }
   ],
   "source": [
    "#1. Write a program to print every character of a string entered by the user in a new line using a loop.\n",
    "\n",
    "ID = \"Sujit\"\n",
    "\n",
    "for i in ID:\n",
    "    print(i)"
   ]
  },
  {
   "cell_type": "code",
   "execution_count": 46,
   "id": "f2100e71",
   "metadata": {},
   "outputs": [
    {
     "name": "stdout",
     "output_type": "stream",
     "text": [
      "len of string is: 16\n"
     ]
    }
   ],
   "source": [
    "#2.  Write a program to find the length of the string \"machine learning\" with and without using len function.\n",
    "string = \"machine learning\"\n",
    "counter = 0\n",
    "for i in string:\n",
    "    counter += 1\n",
    "print(\"len of string is:\", counter)"
   ]
  },
  {
   "cell_type": "code",
   "execution_count": 48,
   "id": "6f163467",
   "metadata": {},
   "outputs": [
    {
     "name": "stdout",
     "output_type": "stream",
     "text": [
      "present\n"
     ]
    }
   ],
   "source": [
    "#3. Write a program to check if the word 'orange' is present in the \"This is orange juice\".\n",
    "\n",
    "sentence = \"This is orange juice\"\n",
    "if 'orange' in sentence:\n",
    "        print(\"present\")\n",
    "else: print(\"not present\")"
   ]
  },
  {
   "cell_type": "code",
   "execution_count": 49,
   "id": "c6998b5d",
   "metadata": {},
   "outputs": [
    {
     "name": "stdout",
     "output_type": "stream",
     "text": [
      "Enter the string : Sujit@9921\n",
      "Vowels:  2\n",
      "Consonants:  3\n",
      "Digits:  4\n",
      "White spaces:  0\n",
      "Special: 1\n"
     ]
    }
   ],
   "source": [
    "#4. Write a program to find the number of vowels, consonants, digits, and white space characters in a string.\n",
    "\n",
    "\n",
    "from string import punctuation\n",
    "pnc = list(punctuation)\n",
    "string = str(input(\"Enter the string : \"))\n",
    "vowels = 0\n",
    "digits = 0\n",
    "consonants = 0\n",
    "spaces = 0\n",
    "special = 0\n",
    "string = string.lower()\n",
    "for i in range(0, len(string)):\n",
    "    if(string[i] in ['a','e','i','o','u']):\n",
    "        vowels = vowels + 1\n",
    "    elif(string[i].isalpha()):\n",
    "         consonants += 1\n",
    "    elif(string[i].isnumeric()):\n",
    "         digits = digits + 1\n",
    "    elif(string[i] ==' '):\n",
    "         spaces = spaces + 1\n",
    "    elif(string[i] in pnc):\n",
    "         special += 1\n",
    "print(\"Vowels: \", vowels);\n",
    "print(\"Consonants: \", consonants);\n",
    "print(\"Digits: \", digits);\n",
    "print(\"White spaces: \", spaces);\n",
    "print(\"Special:\", special)"
   ]
  },
  {
   "cell_type": "code",
   "execution_count": 57,
   "id": "a6640a8e",
   "metadata": {},
   "outputs": [
    {
     "name": "stdout",
     "output_type": "stream",
     "text": [
      "Upper case letters: 2\n",
      "Lower case letters: 6\n",
      "Numbers: 2\n",
      "Special characters: 2\n"
     ]
    }
   ],
   "source": [
    "#5.  Write a Python program to count Uppercase, Lowercase, special character, and numeric values in a given string\n",
    "\n",
    "def Count(str):\n",
    "    upper, lower, number, special = 0, 0, 0, 0\n",
    "    for i in range(len(str)):\n",
    "        if str[i].isupper():\n",
    "             upper += 1\n",
    "        elif str[i].islower():\n",
    "             lower += 1\n",
    "        elif str[i].isdigit():\n",
    "             number += 1\n",
    "        else:\n",
    "             special += 1\n",
    "                \n",
    "    print('Upper case letters:', upper)\n",
    "    print('Lower case letters:', lower)\n",
    "    print('Numbers:', number)\n",
    "    print('Special characters:', special)        \n",
    "\n",
    "    \n",
    "str = \"#SujiT@25str\"\n",
    "Count(str)\n"
   ]
  },
  {
   "cell_type": "code",
   "execution_count": 59,
   "id": "02f267a2",
   "metadata": {},
   "outputs": [
    {
     "name": "stdout",
     "output_type": "stream",
     "text": [
      "enter ur number :6\n",
      "str1 after removing  6 th character \n",
      "Today s a great day.\n"
     ]
    }
   ],
   "source": [
    "#6.  Write a Python program to remove the nth index character from a non-empty string.\n",
    "str = \"Today is a great day.\"\n",
    "n = int(input(\"enter ur number :\"))\n",
    "str1 = ''\n",
    "for char in range(0, len(str)):\n",
    "    if(char != n):\n",
    "        str1 += str[char]\n",
    "\n",
    "print(\"str1 after removing \", n, \"th character \")\n",
    "print(str1)\n"
   ]
  },
  {
   "cell_type": "code",
   "execution_count": 60,
   "id": "41e4d88a",
   "metadata": {},
   "outputs": [
    {
     "name": "stdout",
     "output_type": "stream",
     "text": [
      "Enter a string :Hello World\n",
      "dello WorlH\n"
     ]
    }
   ],
   "source": [
    "#7. Write a Python program to change a given string to a new string where the first and last characters have been exchanged.\n",
    "string = input(\"Enter a string :\")\n",
    "str1 = string[-1] + string[1:-1] + string[0]\n",
    "print(str1)\n"
   ]
  },
  {
   "cell_type": "code",
   "execution_count": 62,
   "id": "7fa98a87",
   "metadata": {},
   "outputs": [
    {
     "name": "stdout",
     "output_type": "stream",
     "text": [
      "Number of occurrence of p: 4\n"
     ]
    }
   ],
   "source": [
    "#8. How do you count the occurrence of a given character in a string\n",
    "\n",
    "string = 'python is popular programming language'\n",
    "print('Number of occurrence of p:', string.count('p'))"
   ]
  },
  {
   "cell_type": "code",
   "execution_count": 67,
   "id": "4ac3c510",
   "metadata": {},
   "outputs": [
    {
     "name": "stdout",
     "output_type": "stream",
     "text": [
      "last 10 chars of given string: g language\n"
     ]
    }
   ],
   "source": [
    "#9.  Write a program to find last 10 characters of a string?\n",
    "string = \"python is popular programming language\"\n",
    "last_char = string[-10:]\n",
    "print(\"last 10 chars of given string:\",last_char)"
   ]
  },
  {
   "cell_type": "code",
   "execution_count": 68,
   "id": "af114d66",
   "metadata": {},
   "outputs": [
    {
     "name": "stdout",
     "output_type": "stream",
     "text": [
      "True\n"
     ]
    }
   ],
   "source": [
    "#10.  How do you check if a string contains only digits?\n",
    "print(\"123456\".isdigit())"
   ]
  },
  {
   "cell_type": "code",
   "execution_count": 71,
   "id": "0c86a5b7",
   "metadata": {},
   "outputs": [
    {
     "name": "stdout",
     "output_type": "stream",
     "text": [
      "enter ur words: sujit\n",
      "tijus\n"
     ]
    }
   ],
   "source": [
    "#11. Write a Python function to reverses a string if its length is a multiple of 5.\n",
    "\n",
    "words = input(\"enter ur words: \")\n",
    "\n",
    "if len(words)%5 == 0:\n",
    "    print(words[::-1])\n",
    "else: print(\"cant\")"
   ]
  },
  {
   "cell_type": "code",
   "execution_count": 72,
   "id": "74917f00",
   "metadata": {},
   "outputs": [
    {
     "name": "stdout",
     "output_type": "stream",
     "text": [
      "language programming popular is Python\n"
     ]
    }
   ],
   "source": [
    "#12.  Write a Python program to reverse words in a string\n",
    "\n",
    "string = \"Python is popular programming language\"\n",
    "## splitting the string on space\n",
    "words = string.split()\n",
    "## reversing\n",
    "words = list(reversed(words))\n",
    "print(\" \".join(words))\n"
   ]
  },
  {
   "cell_type": "code",
   "execution_count": null,
   "id": "7d7bc765",
   "metadata": {},
   "outputs": [],
   "source": []
  }
 ],
 "metadata": {
  "kernelspec": {
   "display_name": "Python 3",
   "language": "python",
   "name": "python3"
  },
  "language_info": {
   "codemirror_mode": {
    "name": "ipython",
    "version": 3
   },
   "file_extension": ".py",
   "mimetype": "text/x-python",
   "name": "python",
   "nbconvert_exporter": "python",
   "pygments_lexer": "ipython3",
   "version": "3.8.8"
  },
  "toc": {
   "base_numbering": 1,
   "nav_menu": {},
   "number_sections": true,
   "sideBar": true,
   "skip_h1_title": false,
   "title_cell": "Table of Contents",
   "title_sidebar": "Contents",
   "toc_cell": false,
   "toc_position": {},
   "toc_section_display": true,
   "toc_window_display": false
  }
 },
 "nbformat": 4,
 "nbformat_minor": 5
}
