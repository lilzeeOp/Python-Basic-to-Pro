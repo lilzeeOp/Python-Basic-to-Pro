{
 "cells": [
  {
   "cell_type": "code",
   "execution_count": 6,
   "id": "d0d8a45c",
   "metadata": {},
   "outputs": [
    {
     "name": "stdout",
     "output_type": "stream",
     "text": [
      "True\n",
      "False\n",
      "True\n",
      "True\n",
      "True\n",
      "False\n"
     ]
    }
   ],
   "source": [
    "# 8.1 - Compare Values\n",
    "# Solutions to review exercises\n",
    "\n",
    "\n",
    "# Exercise 1\n",
    "# Test whether these expressions are True or False\n",
    "\n",
    "\n",
    "print(1 <= 1)\n",
    "print(1 > 1)\n",
    "print(1 != 2)\n",
    "print(\"good\" != \"bad\")\n",
    "print(\"good\" != \"Good\")\n",
    "print(123 == \"123\")\n",
    "\n"
   ]
  },
  {
   "cell_type": "code",
   "execution_count": 13,
   "id": "344a2799",
   "metadata": {},
   "outputs": [
    {
     "name": "stdout",
     "output_type": "stream",
     "text": [
      "True\n",
      "True\n",
      "True\n",
      "True\n",
      "True\n",
      "True\n"
     ]
    },
    {
     "data": {
      "text/plain": [
       "True"
      ]
     },
     "execution_count": 13,
     "metadata": {},
     "output_type": "execute_result"
    }
   ],
   "source": [
    "# Exercise 2\n",
    "# Fill in the blank so that each of the following expressions are True\n",
    "\n",
    "# 3 __ 4\n",
    "# Any of the following:\n",
    "\n",
    "print(3 < 4)\n",
    "print(3 != 4)\n",
    "print(3 <= 4)\n",
    "\n",
    "\n",
    "\n",
    "\n",
    "# 10 __ 5\n",
    "# Any of the following:\n",
    "print(10 > 5)\n",
    "print(10 != 5)\n",
    "print(10 >= 5)\n",
    "\n",
    "\n",
    "\n",
    "\n",
    "# \"jack\" __ \"jill\"\n",
    "# Any of the following:\n",
    "\"jack\" < \"jill\"\n",
    "\"jack\" <= \"jill\"\n",
    "\"jack\" != \"jill\"\n",
    "\n",
    "# 42 __ \"42\"\n",
    "42 != \"42\"\n"
   ]
  },
  {
   "cell_type": "code",
   "execution_count": 14,
   "id": "ff4de520",
   "metadata": {},
   "outputs": [
    {
     "name": "stdout",
     "output_type": "stream",
     "text": [
      "False\n",
      "False\n",
      "True\n",
      "False\n",
      "True\n",
      "True\n",
      "True\n"
     ]
    }
   ],
   "source": [
    "# 8.2 - Add Some Logic\n",
    "# Solutions to review exercises\n",
    "\n",
    "# --- Exercise 1\n",
    "# Test whether these expressions are True or False\n",
    "print((1 <= 1) and (1 != 1))\n",
    "print(not (1 != 2))\n",
    "print((\"good\" != \"bad\") or False)\n",
    "print((\"good\" != \"Good\") and not (1 == 1))\n",
    "\n",
    "# --- Exercise 2\n",
    "# Add parentheses so that the following expressions all\n",
    "# evaluate to True\n",
    "\n",
    "# False == not True\n",
    "print(False == (not True))\n",
    "# True and False == True and False\n",
    "print((True and False) == (True and False))\n",
    "# not True and \"A\" == \"B\"\n",
    "print(not (True and \"A\" == \"B\"))\n"
   ]
  },
  {
   "cell_type": "code",
   "execution_count": 16,
   "id": "99c7ae2d",
   "metadata": {},
   "outputs": [
    {
     "name": "stdout",
     "output_type": "stream",
     "text": [
      "type something: Sujit\n",
      "length of input is equal to 5\n"
     ]
    }
   ],
   "source": [
    "# 8.3 - Control the Flow of Your Program\n",
    "# Solutions to review exercises\n",
    "\n",
    "# Display whether the length of user input is <, > or = 5 characters\n",
    "\n",
    "my_input = input(\"type something: \")\n",
    "if len(my_input) > 5:\n",
    "    print(\"length of input is greater than 5\")\n",
    "elif len(my_input) < 5:\n",
    "    print(\"length of input is less than 5\")\n",
    "else: print(\"length of input is equal to 5\")"
   ]
  },
  {
   "cell_type": "code",
   "execution_count": 1,
   "id": "0f41d989",
   "metadata": {},
   "outputs": [
    {
     "name": "stdout",
     "output_type": "stream",
     "text": [
      "Enter ur Number68\n",
      "1 is factor of 68\n",
      "2 is factor of 68\n",
      "4 is factor of 68\n",
      "17 is factor of 68\n",
      "34 is factor of 68\n",
      "68 is factor of 68\n"
     ]
    }
   ],
   "source": [
    "# 8.4 - Challenge: Find the Factors of a Number\n",
    "# Solution to challenge\n",
    "\n",
    "\n",
    "num = int(input(\"Enter ur Number\"))\n",
    "for divisor in range(1,num+1):\n",
    "    if num % divisor == 0:\n",
    "        print(f\"{divisor} is factor of {num}\")"
   ]
  },
  {
   "cell_type": "code",
   "execution_count": 2,
   "id": "f562c108",
   "metadata": {},
   "outputs": [
    {
     "name": "stdout",
     "output_type": "stream",
     "text": [
      "Type \"q\" or \"Q\" to quit: Q\n",
      "1\n",
      "2\n",
      "4\n",
      "5\n",
      "7\n",
      "8\n",
      "10\n",
      "11\n",
      "13\n",
      "14\n",
      "16\n",
      "17\n",
      "19\n",
      "20\n",
      "22\n",
      "23\n",
      "25\n",
      "26\n",
      "28\n",
      "29\n",
      "31\n",
      "32\n",
      "34\n",
      "35\n",
      "37\n",
      "38\n",
      "40\n",
      "41\n",
      "43\n",
      "44\n",
      "46\n",
      "47\n",
      "49\n",
      "50\n"
     ]
    }
   ],
   "source": [
    "# 8.5 - Break Out of the Pattern\n",
    "# Solutions to review exercises\n",
    "\n",
    "\n",
    "# Exercise 1\n",
    "# Run in an infinite loop until the user types \"q\" or \"Q\"\n",
    "while True:\n",
    "    user_input = input('Type \"q\" or \"Q\" to quit: ')\n",
    "    if user_input.upper() == \"Q\":\n",
    "        break\n",
    "\n",
    "\n",
    "# Exercise 2\n",
    "# Display every number from 1 through 50 except multiples of 3\n",
    "for i in range(1, 51):\n",
    "    if i % 3 == 0:\n",
    "        continue\n",
    "    print(i)\n"
   ]
  },
  {
   "cell_type": "code",
   "execution_count": 4,
   "id": "6821a477",
   "metadata": {},
   "outputs": [
    {
     "name": "stdout",
     "output_type": "stream",
     "text": [
      "enter ur string: sujit\n",
      "enter an integer: 1\n",
      "u\n"
     ]
    }
   ],
   "source": [
    "# 8.6 - Recover From Errors\n",
    "# Solution to review exercises\n",
    "\n",
    "\n",
    "# Exercise 2\n",
    "# Print character and specifid index in string\n",
    "\n",
    "input_string = input(\"enter ur string: \")\n",
    "\n",
    "\n",
    "try:\n",
    "    index = int(input(\"enter an integer: \"))\n",
    "    print(input_string[index])\n",
    "except ValueError:\n",
    "    print(\"Invalid number\")\n",
    "except IndexError:\n",
    "    print(\"Index is out of bounds\")"
   ]
  }
 ],
 "metadata": {
  "kernelspec": {
   "display_name": "Python 3",
   "language": "python",
   "name": "python3"
  },
  "language_info": {
   "codemirror_mode": {
    "name": "ipython",
    "version": 3
   },
   "file_extension": ".py",
   "mimetype": "text/x-python",
   "name": "python",
   "nbconvert_exporter": "python",
   "pygments_lexer": "ipython3",
   "version": "3.8.8"
  },
  "toc": {
   "base_numbering": 1,
   "nav_menu": {},
   "number_sections": true,
   "sideBar": true,
   "skip_h1_title": false,
   "title_cell": "Table of Contents",
   "title_sidebar": "Contents",
   "toc_cell": false,
   "toc_position": {},
   "toc_section_display": true,
   "toc_window_display": false
  }
 },
 "nbformat": 4,
 "nbformat_minor": 5
}
