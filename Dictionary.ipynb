{
 "cells": [
  {
   "cell_type": "code",
   "execution_count": 2,
   "id": "4e973629",
   "metadata": {},
   "outputs": [
    {
     "name": "stdout",
     "output_type": "stream",
     "text": [
      "Ascending order is : {1: 'a', 2: 'b', 3: 'c', 4: 'd', 5: 'e'}\n"
     ]
    }
   ],
   "source": [
    "# Exercises (Basic 2 Hard)\n",
    "\n",
    "# 1. Write a Python script to sort (ascending and descending) a dictionary by key.\n",
    "\n",
    "alphabets = {\n",
    "    5: 'e',\n",
    "    4: 'd',\n",
    "    3: 'c',\n",
    "    2: 'b',\n",
    "    1: 'a',\n",
    "}\n",
    "\n",
    "ascending = {}\n",
    "for k, v in sorted(alphabets.items()):\n",
    "    ascending[k]=v\n",
    "print(\"Ascending order is :\",ascending)\n",
    "\n",
    "\n",
    "descending = {}"
   ]
  },
  {
   "cell_type": "code",
   "execution_count": 6,
   "id": "99b2ac2d",
   "metadata": {},
   "outputs": [
    {
     "name": "stdout",
     "output_type": "stream",
     "text": [
      "{0: 10, 1: 20}\n"
     ]
    },
    {
     "data": {
      "text/plain": [
       "{0: 10, 1: 20, 2: 30}"
      ]
     },
     "execution_count": 6,
     "metadata": {},
     "output_type": "execute_result"
    }
   ],
   "source": [
    "#2. Write a Python program to add a key to a dictionary.\n",
    "\n",
    "d = {0:10, 1:20}\n",
    "print(d)\n",
    "\n",
    "d.update({2:30})\n",
    "d"
   ]
  },
  {
   "cell_type": "code",
   "execution_count": 16,
   "id": "65aa4bb5",
   "metadata": {},
   "outputs": [
    {
     "name": "stdout",
     "output_type": "stream",
     "text": [
      "{'Ten': 10, 'Twenty': 20, 'Thirty': 30}\n"
     ]
    }
   ],
   "source": [
    "# Exercise 1: Convert two lists into a dictionary\n",
    "keys = ['Ten', 'Twenty', 'Thirty']\n",
    "values = [10, 20, 30]\n",
    "\n",
    "# method 1\n",
    "\n",
    "new_dict = zip(keys, values)\n",
    "print(dict(new_dict))\n",
    "\n"
   ]
  },
  {
   "cell_type": "code",
   "execution_count": 22,
   "id": "79f85bc8",
   "metadata": {},
   "outputs": [
    {
     "data": {
      "text/plain": [
       "{'Ten': 10, 'Twenty': 20, 'Thirty': 30, 'Fourty': 40, 'Fifty': 50}"
      ]
     },
     "execution_count": 22,
     "metadata": {},
     "output_type": "execute_result"
    }
   ],
   "source": [
    "# Exercise 2: Merge two Python dictionaries into one\n",
    "\n",
    "dict1 = {'Ten': 10, 'Twenty': 20, 'Thirty': 30}\n",
    "dict2 = {'Thirty': 30, 'Fourty': 40, 'Fifty': 50}\n",
    "\n",
    "dict3 = {**dict1, ** dict2}\n",
    "dict3"
   ]
  },
  {
   "cell_type": "code",
   "execution_count": 23,
   "id": "d0f422d2",
   "metadata": {},
   "outputs": [
    {
     "name": "stdout",
     "output_type": "stream",
     "text": [
      "{'Ten': 10, 'Twenty': 20, 'Thirty': 30, 'Fourty': 40, 'Fifty': 50}\n"
     ]
    }
   ],
   "source": [
    "dict4 = dict1.copy()\n",
    "dict4.update(dict2)\n",
    "print(dict4)"
   ]
  },
  {
   "cell_type": "code",
   "execution_count": null,
   "id": "62379256",
   "metadata": {},
   "outputs": [],
   "source": [
    "# Exercise 4: Initialize dictionary with default values\n",
    "\n"
   ]
  },
  {
   "cell_type": "code",
   "execution_count": null,
   "id": "1a864193",
   "metadata": {},
   "outputs": [],
   "source": [
    "py\n",
    "sql\n",
    "html \n",
    "c++\n"
   ]
  },
  {
   "cell_type": "code",
   "execution_count": null,
   "id": "0a2c5ca8",
   "metadata": {},
   "outputs": [],
   "source": [
    "database : sql mongoDB\n",
    "    \n",
    "visual analytics tools : tablue exl dashboard\n",
    "    \n",
    "tools : git, jira, anaconda, jupyter\n",
    "    \n",
    "\n",
    "    \n"
   ]
  }
 ],
 "metadata": {
  "kernelspec": {
   "display_name": "Python 3",
   "language": "python",
   "name": "python3"
  },
  "language_info": {
   "codemirror_mode": {
    "name": "ipython",
    "version": 3
   },
   "file_extension": ".py",
   "mimetype": "text/x-python",
   "name": "python",
   "nbconvert_exporter": "python",
   "pygments_lexer": "ipython3",
   "version": "3.8.8"
  },
  "toc": {
   "base_numbering": 1,
   "nav_menu": {},
   "number_sections": true,
   "sideBar": true,
   "skip_h1_title": false,
   "title_cell": "Table of Contents",
   "title_sidebar": "Contents",
   "toc_cell": false,
   "toc_position": {},
   "toc_section_display": true,
   "toc_window_display": false
  }
 },
 "nbformat": 4,
 "nbformat_minor": 5
}
