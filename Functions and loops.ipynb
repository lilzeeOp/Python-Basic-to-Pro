{
 "cells": [
  {
   "cell_type": "code",
   "execution_count": 4,
   "id": "c986618e",
   "metadata": {},
   "outputs": [
    {
     "name": "stdout",
     "output_type": "stream",
     "text": [
      "0\n",
      "27\n",
      "64\n",
      "cube of 5 is 125\n"
     ]
    }
   ],
   "source": [
    "# 6.2 - Write Your Own Functions\n",
    "# Solutions to review exercises\n",
    "\n",
    "\n",
    "# Exercise 1\n",
    "def cube(num):\n",
    "    \"\"\"Return the cube of the input number.\"\"\"\n",
    "    cube_num = num ** 3\n",
    "    return cube_num\n",
    "\n",
    "\n",
    "\n",
    "print(cube(0))\n",
    "print(cube(3))\n",
    "print(cube(4))\n",
    "\n",
    "print(f\"cube of 5 is {cube(5)}\")   "
   ]
  },
  {
   "cell_type": "code",
   "execution_count": 7,
   "id": "d92b9e9f",
   "metadata": {},
   "outputs": [
    {
     "name": "stdout",
     "output_type": "stream",
     "text": [
      "Hello sujit!\n"
     ]
    }
   ],
   "source": [
    "def greet(name):\n",
    "    \"\"\"Return the greeting for the input name.\"\"\"\n",
    "    print( f\"Hello {name}!\")\n",
    "    \n",
    "    \n",
    "    \n",
    "    \n",
    "greet('sujit')"
   ]
  },
  {
   "cell_type": "code",
   "execution_count": 8,
   "id": "4152c7a6",
   "metadata": {},
   "outputs": [
    {
     "name": "stdout",
     "output_type": "stream",
     "text": [
      "Enter a temperature in degrees F: 65\n",
      "65 degrees F = 18.33 degrees C\n",
      "\n",
      "Enter a temperature in degrees C: 36\n",
      "36 degrees C = 96.80 degrees F\n"
     ]
    }
   ],
   "source": [
    "# 6.3 - Challenge: Convert temperatures\n",
    "# Solution to challenge\n",
    "\n",
    "\n",
    "def convert_cel_to_far(temp_cel):\n",
    "    \"\"\"Return the Celsius temperature temp_cel converted to Fahrenheit.\"\"\"\n",
    "    temp_far = temp_cel * (9 / 5) + 32\n",
    "    return temp_far\n",
    "\n",
    "\n",
    "def convert_far_to_cel(temp_far):\n",
    "    \"\"\"Return the Fahrenheit temperature temp_far converted to Celsius.\"\"\"\n",
    "    temp_cel = (temp_far - 32) * (5 / 9)\n",
    "    return temp_cel\n",
    "\n",
    "\n",
    "# Prompt the user to input a Fahrenheit temperature.\n",
    "temp_far = input(\"Enter a temperature in degrees F: \")\n",
    "\n",
    "# Convert the temperature to Celsius.\n",
    "# Note that `temp_far` must be converted to a `float`\n",
    "# since `input()` returns a string.\n",
    "temp_cel = convert_far_to_cel(float(temp_far))\n",
    "\n",
    "# Display the converted temperature\n",
    "print(f\"{temp_far} degrees F = {temp_cel:.2f} degrees C\")\n",
    "\n",
    "# You could also use `round()` instead of the formatting mini-language:\n",
    "# print(f\"{temp_far} degrees F = {round(temp_cel, 2)} degrees C\"\")\n",
    "\n",
    "# Prompt the user to input a Celsius temperature.\n",
    "temp_cel = input(\"\\nEnter a temperature in degrees C: \")\n",
    "\n",
    "# Convert the temperature to Fahrenheit.\n",
    "temp_far = convert_cel_to_far(float(temp_cel))\n",
    "\n",
    "# Display the converted temperature\n",
    "print(f\"{temp_cel} degrees C = {temp_far:.2f} degrees F\")\n"
   ]
  },
  {
   "cell_type": "code",
   "execution_count": 11,
   "id": "f8bd3a22",
   "metadata": {},
   "outputs": [
    {
     "name": "stdout",
     "output_type": "stream",
     "text": [
      "2\n",
      "3\n",
      "4\n",
      "5\n",
      "6\n",
      "7\n",
      "8\n",
      "9\n",
      "10\n"
     ]
    }
   ],
   "source": [
    "# 6.4 - Run in Circles\n",
    "# Solutions to review exercises\n",
    "\n",
    "\n",
    "# Exercise 1\n",
    "# print the integer 2 through 10 using a \"for\" loop\n",
    "\n",
    "for i in range(2,11):\n",
    "    print(i)"
   ]
  },
  {
   "cell_type": "code",
   "execution_count": 10,
   "id": "ead2d7d1",
   "metadata": {},
   "outputs": [
    {
     "name": "stdout",
     "output_type": "stream",
     "text": [
      "2\n",
      "3\n",
      "4\n",
      "5\n",
      "6\n",
      "7\n",
      "8\n",
      "9\n",
      "10\n"
     ]
    }
   ],
   "source": [
    "# Exercise 2\n",
    "# print the integer 2 through 10 using a \"while\" loop\n",
    "\n",
    "i = 2\n",
    "while i < 11:\n",
    "    print(i)\n",
    "    i = i + 1"
   ]
  },
  {
   "cell_type": "code",
   "execution_count": 13,
   "id": "45ad32a3",
   "metadata": {},
   "outputs": [
    {
     "data": {
      "text/plain": [
       "12"
      ]
     },
     "execution_count": 13,
     "metadata": {},
     "output_type": "execute_result"
    }
   ],
   "source": [
    "# Exercise 3\n",
    "def doubles(num):\n",
    "    \"\"\"Return the result of multiplying an input number by 2.\"\"\"\n",
    "    return num * 2\n",
    "\n",
    "\n",
    "\n",
    "doubles(6)"
   ]
  },
  {
   "cell_type": "code",
   "execution_count": 14,
   "id": "5739f290",
   "metadata": {},
   "outputs": [
    {
     "name": "stdout",
     "output_type": "stream",
     "text": [
      "4\n",
      "8\n",
      "16\n"
     ]
    }
   ],
   "source": [
    "# Call doubles() to double the number 2 three times\n",
    "my_num = 2\n",
    "for i in range(0, 3):\n",
    "    my_num = doubles(my_num)\n",
    "    print(my_num)\n"
   ]
  },
  {
   "cell_type": "code",
   "execution_count": 15,
   "id": "7cb01204",
   "metadata": {},
   "outputs": [
    {
     "name": "stdout",
     "output_type": "stream",
     "text": [
      "Enter a principal amount: 50000\n",
      "Enter an anual rate of return: 100000\n",
      "Enter a number of years: 5\n",
      "year 1: $5,000,050,000.00\n",
      "year 2: $500,010,000,050,000.00\n",
      "year 3: $50,001,500,015,000,051,712.00\n",
      "year 4: $5,000,200,003,000,019,974,094,848.00\n",
      "year 5: $500,025,000,500,004,977,434,238,648,320.00\n"
     ]
    }
   ],
   "source": [
    "# 6.5 - Challenge: Track Your Investments\n",
    "# Solution to challenge\n",
    "\n",
    "\n",
    "# Calculate interest to track the growth of an investment\n",
    "\n",
    "\n",
    "def invest(amount, rate, years):\n",
    "    \"\"\"Display year on year growth of an initial investment\"\"\"\n",
    "    for year in range(1, years + 1):\n",
    "        amount = amount * (1 + rate)\n",
    "        print(f\"year {year}: ${amount:,.2f}\")\n",
    "\n",
    "\n",
    "amount = float(input(\"Enter a principal amount: \"))\n",
    "rate = float(input(\"Enter an anual rate of return: \"))\n",
    "years = int(input(\"Enter a number of years: \"))\n",
    "\n",
    "invest(amount, rate, years)\n"
   ]
  },
  {
   "cell_type": "code",
   "execution_count": null,
   "id": "1d9bf987",
   "metadata": {},
   "outputs": [],
   "source": []
  }
 ],
 "metadata": {
  "kernelspec": {
   "display_name": "Python 3",
   "language": "python",
   "name": "python3"
  },
  "language_info": {
   "codemirror_mode": {
    "name": "ipython",
    "version": 3
   },
   "file_extension": ".py",
   "mimetype": "text/x-python",
   "name": "python",
   "nbconvert_exporter": "python",
   "pygments_lexer": "ipython3",
   "version": "3.8.8"
  },
  "toc": {
   "base_numbering": 1,
   "nav_menu": {},
   "number_sections": true,
   "sideBar": true,
   "skip_h1_title": false,
   "title_cell": "Table of Contents",
   "title_sidebar": "Contents",
   "toc_cell": false,
   "toc_position": {},
   "toc_section_display": true,
   "toc_window_display": false
  }
 },
 "nbformat": 4,
 "nbformat_minor": 5
}
