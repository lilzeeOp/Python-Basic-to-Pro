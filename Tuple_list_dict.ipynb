{
 "cells": [
  {
   "cell_type": "code",
   "execution_count": 6,
   "id": "a1961655",
   "metadata": {},
   "outputs": [
    {
     "name": "stdout",
     "output_type": "stream",
     "text": [
      "('first', 'second', 'third')\n",
      "second\n",
      "first\n",
      "second\n",
      "third\n",
      "False\n",
      "ujit\n"
     ]
    }
   ],
   "source": [
    "#1 - Tuples are Immutable Sequences\n",
    "\n",
    "# Exercise 1\n",
    "# Create a tuple \"cardinal_numbers\" with \"first\", \"second\" and \"third\"\n",
    "cardinal_numbers = (\"first\", \"second\", \"third\")\n",
    "print(cardinal_numbers)\n",
    "\n",
    "# Exercise 2\n",
    "# Display the second object in the tuple\n",
    "print(cardinal_numbers[1])\n",
    "\n",
    "\n",
    "# Exercise 3\n",
    "# unpack the tuple into three string and display them\n",
    "\n",
    "position1, position2, position3 = cardinal_numbers\n",
    "print(position1)\n",
    "print(position2)\n",
    "print(position3)\n",
    "\n",
    "\n",
    "# Exercise 4\n",
    "# Create a tuple containing the letters of your name from a string\n",
    "\n",
    "my_name = (\"Sujit\")\n",
    "\n",
    "# Exercide 5\n",
    "# Check whether or not x is in my_name\n",
    "\n",
    "print('x' in my_name)\n",
    "\n",
    "# Exercise 6\n",
    "# Create tuple containing all but the first letter in my_name\n",
    "\n",
    "print(my_name[1:])"
   ]
  },
  {
   "cell_type": "code",
   "execution_count": 16,
   "id": "90b0f7c0",
   "metadata": {},
   "outputs": [
    {
     "name": "stdout",
     "output_type": "stream",
     "text": [
      "['rice', 'beans', 'broccolo', 'bread', 'pizza']\n",
      "['rice', 'beans']\n",
      "pizza\n",
      "['eggs,', 'fruit,', 'orange', 'juice']\n",
      "False\n"
     ]
    },
    {
     "data": {
      "text/plain": [
       "[4, 4, 4, 4]"
      ]
     },
     "execution_count": 16,
     "metadata": {},
     "output_type": "execute_result"
    }
   ],
   "source": [
    "#2 - Lists are Mutable Sequences\n",
    "\n",
    "\n",
    "# Exercise 1\n",
    "# Create a list named food with two elements \"rice\" and \"beans\".\n",
    "\n",
    "foods = [\"rice\", \"beans\"]\n",
    "\n",
    "# Exercise 2\n",
    "# Append the string \"broccolo\" to the food list using .append()\n",
    "\n",
    "foods.append(\"broccolo\")\n",
    "\n",
    "\n",
    "# Exercise 3\n",
    "# Add the strings \"bread\" and \"pizza\" to food using .extend()\n",
    "foods.extend([\"bread\", \"pizza\"])\n",
    "print(foods)\n",
    "\n",
    "# Exercise 4\n",
    "# Print the first two items in food using slicing notation\n",
    "\n",
    "print(foods[:2])\n",
    "\n",
    "\n",
    "# Exercise 5\n",
    "# Print the last item in food using index notation\n",
    "print(foods[-1])\n",
    "\n",
    "\n",
    "\n",
    "# Exercise 6\n",
    "# Create a list called breakfast from the string \"eggs, fruit, orange juice\"\n",
    "breakfast = \"eggs, fruit, orange juice\".split()\n",
    "print(breakfast)\n",
    "\n",
    "# Exercise 7\n",
    "# Verify that breakfast has three items using len()\n",
    "\n",
    "print(len(breakfast)==3)\n",
    "\n",
    "\n",
    "# Exercise 8\n",
    "# Create a new list called `lengths` using a list\n",
    "# comprehension that contains the lengths of each\n",
    "# string in the `breakfast` list.\n",
    "\n",
    "lengths = [len(breakfast) for i in breakfast]\n",
    "lengths"
   ]
  },
  {
   "cell_type": "code",
   "execution_count": 25,
   "id": "e009e2cd",
   "metadata": {},
   "outputs": [
    {
     "name": "stdout",
     "output_type": "stream",
     "text": [
      "((1, 2), (3, 4))\n",
      "Row 1 sum: 3\n",
      "Row 2 sum: 7\n",
      "[4, 3, 2, 1]\n",
      "[1, 2, 3, 4]\n"
     ]
    }
   ],
   "source": [
    "#3 - Nesting, Copying, and Sorting Lists and Tuples\n",
    "\n",
    "\n",
    "\n",
    "# Exercise 1\n",
    "# Create a tuple called data with two values, (1, 2) and (3, 4)\n",
    "data = ((1,2),(3,4))\n",
    "print(data)\n",
    "\n",
    "\n",
    "# Exercise 2\n",
    "# Loop over data a print the sum of each nested tuple\n",
    "for i in range(len(data)):\n",
    "    print(f\"Row {i+1} sum: {data[i][0] + data[i][1]}\")\n",
    "    \n",
    "    \n",
    "    \n",
    "    \n",
    "# Exercise 3\n",
    "# Create the list [4, 3, 2, 1] and assign it to variable numbers\n",
    "\n",
    "numbers = [4, 3, 2, 1]\n",
    "\n",
    "\n",
    "# Exercise 4\n",
    "# Create a copy of the number list using [:]\n",
    "\n",
    "numbers_copy = numbers[:]\n",
    "print(numbers_copy)\n",
    "\n",
    "\n",
    "# Exercise 5\n",
    "# Sort the numbers list in numerical order\n",
    "numbers.sort()\n",
    "print(numbers)\n",
    "\n",
    "\n"
   ]
  },
  {
   "cell_type": "code",
   "execution_count": 26,
   "id": "48784505",
   "metadata": {},
   "outputs": [],
   "source": [
    "#4 - Challenge: List of Lists\n",
    "\n",
    "def enrollment_stats(list_of_universities):\n",
    "    \n",
    "    # Variables\n",
    "    total_students = []\n",
    "    total_tuition = []\n",
    "    \n",
    "    # Iterate through lists, adding values\n",
    "    for university in list_of_universities:\n",
    "        total_students.append(university[1])\n",
    "        total_tuition.append(university[2])\n",
    "        \n",
    "        # Return variables\n",
    "        \n",
    "    return total_students, total_tuition\n",
    "\n",
    "\n",
    "def mean(values):\n",
    "    \"\"\"Return the mean value in the list `values`\"\"\"\n",
    "    return sum(values) / len(values)\n",
    "\n",
    "\n",
    "def median(values):\n",
    "    \"\"\"Return the median value of the list `values`\"\"\"\n",
    "    values.sort()\n",
    "    # If the number of valus is odd,\n",
    "    # return the middle value of the list\n",
    "    if len(values) % 2 == 1:\n",
    "        # The value at the center of the list is the value\n",
    "        # at whose index is half of the length of the list,\n",
    "        # rounded down\n",
    "        center_index = int(len(values) / 2)\n",
    "        return values[center_index]\n",
    "    # Otherwise, if the length of the list is even, return\n",
    "    # the mean of the two center values\n",
    "    else:\n",
    "        left_center_index = (len(values) - 1) // 2\n",
    "        right_center_index = (len(values) + 1) // 2\n",
    "        return mean([values[left_center_index], values[right_center_index]])\n",
    "\n",
    "\n",
    "universities = [\n",
    "    [\"California Institute of Technology\", 2175, 37704],\n",
    "    [\"Harvard\", 19627, 39849],\n",
    "    [\"Massachusetts Institute of Technology\", 10566, 40732],\n",
    "    [\"Princeton\", 7802, 37000],\n",
    "    [\"Rice\", 5879, 35551],\n",
    "    [\"Stanford\", 19535, 40569],\n",
    "    [\"Yale\", 11701, 40500],\n",
    "]\n",
    "\n",
    "totals = enrollment_stats(universities)\n",
    "\n",
    "print(\"\\n\")\n",
    "print(\"*****\" * 6)\n",
    "print(f\"Total students:   {sum(totals[0]):,}\")\n",
    "print(f\"Total tuition:  $ {sum(totals[1]):,}\")\n",
    "print(f\"\\nStudent mean:     {mean(totals[0]):,.2f}\")\n",
    "print(f\"Student median:   {median(totals[0]):,}\")\n",
    "print(f\"\\nTuition mean:   $ {mean(totals[1]):,.2f}\")\n",
    "print(f\"Tuition median: $ {median(totals[1]):,}\")\n",
    "print(\"*****\" * 6)\n",
    "print(\"\\n\")\n",
    "\n",
    "    "
   ]
  },
  {
   "cell_type": "code",
   "execution_count": 36,
   "id": "27b211be",
   "metadata": {},
   "outputs": [
    {
     "name": "stdout",
     "output_type": "stream",
     "text": [
      "a type is <class 'str'>\n",
      "1 type is <class 'int'>\n",
      "2.5 type is <class 'float'>\n",
      "['a', 1, 2.5] type is <class 'list'>\n",
      "True type is <class 'bool'>\n"
     ]
    }
   ],
   "source": [
    "#5 -Exercise w3resource.com\n",
    "\n",
    "#1. Write a Python program to create a tuple.\n",
    "empty_tuple = ()\n",
    "tuple_emp = tuple()\n",
    "single_tuple = 'abc', \n",
    "multiple_tuple = 'abc', 'xyz'\n",
    "multiple_tuple_ = ('abc', 'xyz', 'pqr')\n",
    "my_list = [1, 2, 3, 3, 4]\n",
    "new_tuple = tuple(my_list)\n",
    "new_tuple\n",
    "\n",
    "\n",
    "\n",
    "#2. Write a Python program to create a tuple with different data types.\n",
    "my_tuple = ('a', 1, 2.5, ['a', 1, 2.5], True)\n",
    "my_tuple\n",
    "\n",
    "for i in my_tuple:\n",
    "    print(i,'type is',type(i))\n",
    "    \n",
    "    \n"
   ]
  },
  {
   "cell_type": "code",
   "execution_count": null,
   "id": "065648a6",
   "metadata": {},
   "outputs": [],
   "source": [
    "## List Exercises (Basic ==> Hard)\n",
    "### Source:- PYnative"
   ]
  },
  {
   "cell_type": "code",
   "execution_count": 2,
   "id": "124ca949",
   "metadata": {},
   "outputs": [
    {
     "data": {
      "text/plain": [
       "[500, 400, 300, 200, 100]"
      ]
     },
     "execution_count": 2,
     "metadata": {},
     "output_type": "execute_result"
    }
   ],
   "source": [
    "# Exercise 1: Reverse a list in Python\n",
    "\n",
    "list1 = [100, 200, 300, 400, 500]\n",
    "list1.reverse()\n",
    "list1"
   ]
  },
  {
   "cell_type": "code",
   "execution_count": 3,
   "id": "3156aad2",
   "metadata": {},
   "outputs": [
    {
     "data": {
      "text/plain": [
       "[500, 400, 300, 200, 100]"
      ]
     },
     "execution_count": 3,
     "metadata": {},
     "output_type": "execute_result"
    }
   ],
   "source": [
    "list1 = [100, 200, 300, 400, 500]\n",
    "list1[::-1]"
   ]
  },
  {
   "cell_type": "code",
   "execution_count": 7,
   "id": "f193d8be",
   "metadata": {},
   "outputs": [
    {
     "data": {
      "text/plain": [
       "['My', 'name', 'is', 'Kelly']"
      ]
     },
     "execution_count": 7,
     "metadata": {},
     "output_type": "execute_result"
    }
   ],
   "source": [
    "# Exercise 2: Concatenate two lists index-wise\n",
    "# Write a program to add two lists index-wise. Create a new list that contains the 0th index item from both the list, then the 1st index item, and so on till the last element. any leftover items will get added at the end of the new list.#\n",
    "list1 = [\"M\", \"na\", \"i\", \"Ke\"]\n",
    "list2 = [\"y\", \"me\", \"s\", \"lly\"]\n",
    "list3 = [i + j for i, j in zip(list1, list2)]\n",
    "list3"
   ]
  },
  {
   "cell_type": "code",
   "execution_count": 8,
   "id": "97b7e409",
   "metadata": {},
   "outputs": [
    {
     "data": {
      "text/plain": [
       "[1, 4, 9, 16, 25, 36, 49]"
      ]
     },
     "execution_count": 8,
     "metadata": {},
     "output_type": "execute_result"
    }
   ],
   "source": [
    "# Exercise 3: Turn every item of a list into its square\n",
    "\n",
    "numbers = [1, 2, 3, 4, 5, 6, 7]\n",
    "\"\"\" Given a list of numbers. write a program to turn every item of a list into its square.\"\"\"\n",
    "\n",
    "squares = [i ** 2 for i in numbers]\n",
    "squares\n"
   ]
  },
  {
   "cell_type": "code",
   "execution_count": 9,
   "id": "64bcf0f1",
   "metadata": {},
   "outputs": [
    {
     "data": {
      "text/plain": [
       "[1, 4, 9, 16, 25, 36, 49]"
      ]
     },
     "execution_count": 9,
     "metadata": {},
     "output_type": "execute_result"
    }
   ],
   "source": [
    "res = []\n",
    "for i in numbers:\n",
    "    res.append(i*i)\n",
    "    \n",
    "    \n",
    "res"
   ]
  },
  {
   "cell_type": "code",
   "execution_count": 15,
   "id": "94b3bab0",
   "metadata": {},
   "outputs": [
    {
     "data": {
      "text/plain": [
       "['Hello Dear', 'Hello Sir', 'take Dear', 'take Sir']"
      ]
     },
     "execution_count": 15,
     "metadata": {},
     "output_type": "execute_result"
    }
   ],
   "source": [
    "# Exercise 4: Concatenate two lists in the following order\n",
    "\n",
    "list1 = [\"Hello \", \"take \"]\n",
    "list2 = [\"Dear\", \"Sir\"]\n",
    "\n",
    "list3 = [i+j for i in list1 for j in list2]\n",
    "list3"
   ]
  },
  {
   "cell_type": "code",
   "execution_count": 20,
   "id": "b312f527",
   "metadata": {},
   "outputs": [
    {
     "name": "stdout",
     "output_type": "stream",
     "text": [
      "10 400\n",
      "20 300\n",
      "30 200\n",
      "40 100\n"
     ]
    }
   ],
   "source": [
    "# Exercise 5: Iterate both lists simultaneously\n",
    "list1 = [10, 20, 30, 40]\n",
    "list2 = [100, 200, 300, 400]\n",
    "\"\"\" output ==>  10 400\n",
    "                20 300\n",
    "                30 200\n",
    "                40 100\"\"\"\n",
    "\n",
    "\n",
    "for i,j in zip(list1, list2[::-1]):\n",
    "    print(i, j)"
   ]
  },
  {
   "cell_type": "code",
   "execution_count": null,
   "id": "db4cbfec",
   "metadata": {},
   "outputs": [],
   "source": []
  }
 ],
 "metadata": {
  "kernelspec": {
   "display_name": "Python 3",
   "language": "python",
   "name": "python3"
  },
  "language_info": {
   "codemirror_mode": {
    "name": "ipython",
    "version": 3
   },
   "file_extension": ".py",
   "mimetype": "text/x-python",
   "name": "python",
   "nbconvert_exporter": "python",
   "pygments_lexer": "ipython3",
   "version": "3.8.8"
  },
  "toc": {
   "base_numbering": 1,
   "nav_menu": {},
   "number_sections": true,
   "sideBar": true,
   "skip_h1_title": false,
   "title_cell": "Table of Contents",
   "title_sidebar": "Contents",
   "toc_cell": false,
   "toc_position": {},
   "toc_section_display": true,
   "toc_window_display": false
  }
 },
 "nbformat": 4,
 "nbformat_minor": 5
}
